{
  "nbformat": 4,
  "nbformat_minor": 0,
  "metadata": {
    "colab": {
      "provenance": [],
      "authorship_tag": "ABX9TyM1YxIv5VoIKV0EIkMyWWac",
      "include_colab_link": true
    },
    "kernelspec": {
      "name": "python3",
      "display_name": "Python 3"
    },
    "language_info": {
      "name": "python"
    }
  },
  "cells": [
    {
      "cell_type": "markdown",
      "metadata": {
        "id": "view-in-github",
        "colab_type": "text"
      },
      "source": [
        "<a href=\"https://colab.research.google.com/github/mathewsonb/colab_projects/blob/main/scraper_sandbox.ipynb\" target=\"_parent\"><img src=\"https://colab.research.google.com/assets/colab-badge.svg\" alt=\"Open In Colab\"/></a>"
      ]
    },
    {
      "cell_type": "markdown",
      "source": [
        "### Install and Import Required Packages\n",
        "*(suppressed output reduces noise)*\n",
        "\n",
        "<p>Details:</p>\n",
        "\n",
        "<ul>\n",
        "  <li>Update the environment</li>\n",
        "  <li>Install Chromedriver</li>\n",
        "  <li>Install Selenium</li>\n",
        "  <li>Install Chrome Browser</li>\n",
        "  <li>Import required packages</li>\n",
        "</ul>"
      ],
      "metadata": {
        "id": "jwKhR4oTzY5K"
      }
    },
    {
      "cell_type": "code",
      "execution_count": null,
      "metadata": {
        "id": "MQcR2RAazYOO"
      },
      "outputs": [],
      "source": [
        "%%capture\n",
        "# Perform update, install chromedriver, install selenium\n",
        "!apt update\n",
        "!apt install chromium-chromedriver\n",
        "!pip install selenium"
      ]
    },
    {
      "cell_type": "code",
      "source": [
        "%%capture\n",
        "# Install Chrome Browser instance\n",
        "!wget https://dl.google.com/linux/direct/google-chrome-stable_current_amd64.deb && apt install ./google-chrome-stable_current_amd64.deb"
      ],
      "metadata": {
        "id": "yfV2ZLfYz68E"
      },
      "execution_count": null,
      "outputs": []
    },
    {
      "cell_type": "code",
      "source": [
        "# Import selenium and bs4\n",
        "from selenium import webdriver\n",
        "from bs4 import BeautifulSoup"
      ],
      "metadata": {
        "id": "nReNuYgK1faa"
      },
      "execution_count": null,
      "outputs": []
    },
    {
      "cell_type": "code",
      "source": [
        "# Set up the webdriver instance\n",
        "def driversetup():\n",
        "    options = webdriver.ChromeOptions()\n",
        "    #run Selenium in headless mode\n",
        "    options.add_argument('--headless')\n",
        "    options.add_argument('--no-sandbox')\n",
        "    #overcome limited resource problems\n",
        "    options.add_argument('--disable-dev-shm-usage')\n",
        "    options.add_argument(\"lang=en\")\n",
        "    #open Browser in maximized mode\n",
        "    options.add_argument(\"start-maximized\")\n",
        "    #disable infobars\n",
        "    options.add_argument(\"disable-infobars\")\n",
        "    #disable extension\n",
        "    options.add_argument(\"--disable-extensions\")\n",
        "    options.add_argument(\"--incognito\")\n",
        "    options.add_argument(\"--disable-blink-features=AutomationControlled\")\n",
        "\n",
        "    driver = webdriver.Chrome(options=options)\n",
        "\n",
        "    driver.execute_script(\"Object.defineProperty(navigator, 'webdriver', {get: () => undefined});\")\n",
        "\n",
        "    return driver\n",
        "\n",
        "# Use the function to define the driver\n",
        "driver = driversetup()"
      ],
      "metadata": {
        "id": "PKHispLX1TDT"
      },
      "execution_count": null,
      "outputs": []
    },
    {
      "cell_type": "code",
      "source": [
        "# Use a URL and the driver to retrieve raw HTML from the site\n",
        "def pagesource(url, driver):\n",
        "    driver = driver\n",
        "    driver.get(url)\n",
        "    soup = BeautifulSoup(driver.page_source)\n",
        "    driver.close()\n",
        "    return soup"
      ],
      "metadata": {
        "id": "lkMrcj0i1wU6"
      },
      "execution_count": null,
      "outputs": []
    },
    {
      "cell_type": "code",
      "source": [
        "pagesource(\"https://www.linkedin.com/in/romeroc/\", driver)"
      ],
      "metadata": {
        "colab": {
          "base_uri": "https://localhost:8080/"
        },
        "id": "RM1rkxlB2PzZ",
        "outputId": "e1e5f8a2-5e0b-45d5-d38c-f48a1dba059b"
      },
      "execution_count": null,
      "outputs": [
        {
          "output_type": "execute_result",
          "data": {
            "text/plain": [
              "<html lang=\"en\"><head>\n",
              "<meta content=\"auth_wall_desktop_profile\" name=\"pageKey\"/>\n",
              "<!-- --> <meta content=\"en_US\" name=\"locale\"/>\n",
              "<meta data-app-version=\"2.1.44\" data-browser-id=\"857a9fa7-4c01-4098-8b89-c7a9a0131f5e\" data-call-tree-id=\"AAYGhvuPgdzEdUX6CL1TWA==\" data-disable-jsbeacon-pagekey-suffix=\"false\" data-enable-page-view-heartbeat-tracking=\"\" data-member-id=\"0\" data-msafdf-lib=\"https://static.licdn.com/aero-v1/sc/h/80ndnja80f2uvg4l8sj2su82m\" data-multiproduct-name=\"seo-directory-frontend\" data-page-instance=\"urn:li:page:auth_wall_desktop_profile;vA6N8K6JSO+ZbG1o2vANAg==\" data-service-name=\"seo-directory-frontend\" id=\"config\"/>\n",
              "<link href=\"/authwall\" rel=\"canonical\"/>\n",
              "<!-- --><!-- -->\n",
              "<!-- -->\n",
              "<!-- -->\n",
              "<!-- -->\n",
              "<!-- -->\n",
              "<link href=\"https://static.licdn.com/aero-v1/sc/h/al2o9zrvru7aqj8e1x2rzsrca\" rel=\"icon\"/>\n",
              "<script>\n",
              "          function getDfd() {let yFn,nFn;const p=new Promise(function(y, n){yFn=y;nFn=n;});p.resolve=yFn;p.reject=nFn;return p;}\n",
              "          window.lazyloader = getDfd();\n",
              "          window.tracking = getDfd();\n",
              "          window.impressionTracking = getDfd();\n",
              "          window.ingraphTracking = getDfd();\n",
              "          window.appDetection = getDfd();\n",
              "          window.pemTracking = getDfd();\n",
              "        </script>\n",
              "<!-- -->\n",
              "<title>\n",
              "        Sign In | LinkedIn\n",
              "      </title>\n",
              "<link href=\"/authwall\" rel=\"canonical\"/>\n",
              "<meta content=\"750 million+ members | Manage your professional identity. Build and engage with your professional network. Access knowledge, insights and opportunities.\" name=\"description\"/>\n",
              "<meta content=\"noindex, noarchive\" name=\"robots\"/>\n",
              "<meta content=\"width=device-width, minimum-scale=1.0\" name=\"viewport\"/>\n",
              "<meta content=\"en_US\" name=\"locale\"/>\n",
              "<meta content=\"Sign Up | LinkedIn\" property=\"og:title\"/>\n",
              "<meta content=\"https://static.licdn.com/aero-v1/scds/common/u/images/logos/favicons/v1/favicon.ico\" property=\"og:image\"/>\n",
              "<meta content=\"website\" property=\"og:type\"/>\n",
              "<meta content=\"/authwall\" property=\"og:url\"/>\n",
              "<meta content=\"summary\" name=\"twitter:card\"/>\n",
              "<meta content=\"@Linkedin\" name=\"twitter:site\"/>\n",
              "<meta content=\"Sign Up | LinkedIn\" name=\"twitter:title\"/>\n",
              "<meta content=\"https://static.licdn.com/aero-v1/scds/common/u/images/logos/favicons/v1/favicon.ico\" name=\"twitter:image\"/>\n",
              "<meta content=\"https://static.licdn.com/aero-v1/sc/h/bxullzz73p3hhf78t6sj3w6pb\" name=\"platform-worker\"/>\n",
              "<meta content=\"seo-directory-frontend\" name=\"litmsProfileName\"/>\n",
              "<!-- --> <script src=\"https://static.licdn.com/aero-v1/sc/h/obrlaav59g6ii1bi1f00nkdb\"></script></head></html>"
            ]
          },
          "metadata": {},
          "execution_count": 47
        }
      ]
    }
  ]
}